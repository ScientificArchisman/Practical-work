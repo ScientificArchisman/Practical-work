{
 "cells": [
  {
   "cell_type": "code",
   "execution_count": 1,
   "id": "25e271e9-bddd-458f-9662-de540e689e0f",
   "metadata": {},
   "outputs": [],
   "source": [
    "import numpy as np\n",
    "import pandas as pd\n",
    "import matplotlib.pyplot as plt\n",
    "from scipy.optimize import curve_fit\n",
    "plt.style.use(['science', 'notebook', 'grid'])\n",
    "from scipy.constants import mu_0"
   ]
  },
  {
   "cell_type": "markdown",
   "id": "c4af78dc-9b67-4087-a473-cb252c359a18",
   "metadata": {},
   "source": [
    "**Fitting curve**"
   ]
  },
  {
   "cell_type": "code",
   "execution_count": 2,
   "id": "1fde76b4-91f9-4067-acb3-776473d167f5",
   "metadata": {},
   "outputs": [],
   "source": [
    "fitting_func = lambda x, m, c : m*x+c\n",
    "x_fit = np.linspace(0.0, 1.6, 1000)"
   ]
  },
  {
   "cell_type": "markdown",
   "id": "f0c8116a-0cf4-459d-ab89-aa2b66421cea",
   "metadata": {},
   "source": [
    "---\n",
    "**Table 1: Constants of anchor ring**"
   ]
  },
  {
   "cell_type": "code",
   "execution_count": 3,
   "id": "5691b589-af5b-4ae5-bcae-54d3d71e2e7c",
   "metadata": {},
   "outputs": [
    {
     "data": {
      "text/html": [
       "<div>\n",
       "<style scoped>\n",
       "    .dataframe tbody tr th:only-of-type {\n",
       "        vertical-align: middle;\n",
       "    }\n",
       "\n",
       "    .dataframe tbody tr th {\n",
       "        vertical-align: top;\n",
       "    }\n",
       "\n",
       "    .dataframe thead th {\n",
       "        text-align: right;\n",
       "    }\n",
       "</style>\n",
       "<table border=\"1\" class=\"dataframe\">\n",
       "  <thead>\n",
       "    <tr style=\"text-align: right;\">\n",
       "      <th></th>\n",
       "      <th>Mean dia of core of ring D1 (in cm)</th>\n",
       "      <th>Mean dia of anchor ring D (in cm)</th>\n",
       "      <th>Total no of turns in the ring (N1)</th>\n",
       "      <th>No of turns per cm of ring n1</th>\n",
       "      <th>No of secondary turns on the ring(n2)</th>\n",
       "    </tr>\n",
       "  </thead>\n",
       "  <tbody>\n",
       "    <tr>\n",
       "      <th>0</th>\n",
       "      <td>3.6</td>\n",
       "      <td>25.7</td>\n",
       "      <td>970</td>\n",
       "      <td>12.01</td>\n",
       "      <td>5</td>\n",
       "    </tr>\n",
       "    <tr>\n",
       "      <th>1</th>\n",
       "      <td>3.6</td>\n",
       "      <td>25.7</td>\n",
       "      <td>840</td>\n",
       "      <td>10.40</td>\n",
       "      <td>5</td>\n",
       "    </tr>\n",
       "  </tbody>\n",
       "</table>\n",
       "</div>"
      ],
      "text/plain": [
       "   Mean dia of core of ring D1 (in cm)  Mean dia of anchor ring D (in cm)  \\\n",
       "0                                  3.6                               25.7   \n",
       "1                                  3.6                               25.7   \n",
       "\n",
       "   Total no of turns in the ring (N1)  No of turns per cm of ring n1  \\\n",
       "0                                 970                          12.01   \n",
       "1                                 840                          10.40   \n",
       "\n",
       "   No of secondary turns on the ring(n2)  \n",
       "0                                      5  \n",
       "1                                      5  "
      ]
     },
     "execution_count": 3,
     "metadata": {},
     "output_type": "execute_result"
    }
   ],
   "source": [
    "constants_anch_ring_tab1 = pd.DataFrame({\n",
    "                                    'Mean dia of core of ring D1 (in cm)' : 3.6,\n",
    "                                    'Mean dia of anchor ring D (in cm)' : 25.7,\n",
    "                                    'Total no of turns in the ring (N1)' : [970, 840],\n",
    "                                    'No of turns per cm of ring n1' : [12.01, 10.4],\n",
    "                                    'No of secondary turns on the ring(n2)': 5\n",
    "                                    })\n",
    "constants_anch_ring_tab1"
   ]
  },
  {
   "cell_type": "markdown",
   "id": "100bbc9b-59fe-4b9b-918b-48b55a9123f9",
   "metadata": {},
   "source": [
    "---\n",
    "**Table 2: Constants of standard solenoid**"
   ]
  },
  {
   "cell_type": "code",
   "execution_count": 4,
   "id": "99ec766f-e93d-40b8-939c-421a42b2ebfd",
   "metadata": {},
   "outputs": [
    {
     "data": {
      "text/html": [
       "<div>\n",
       "<style scoped>\n",
       "    .dataframe tbody tr th:only-of-type {\n",
       "        vertical-align: middle;\n",
       "    }\n",
       "\n",
       "    .dataframe tbody tr th {\n",
       "        vertical-align: top;\n",
       "    }\n",
       "\n",
       "    .dataframe thead th {\n",
       "        text-align: right;\n",
       "    }\n",
       "</style>\n",
       "<table border=\"1\" class=\"dataframe\">\n",
       "  <thead>\n",
       "    <tr style=\"text-align: right;\">\n",
       "      <th></th>\n",
       "      <th>Length of solenoid (P1P2) L (in cm)</th>\n",
       "      <th>Total no of primary turns N2</th>\n",
       "      <th>No of p-coil turns per cm n3 = N2/L</th>\n",
       "      <th>Total no of turns in s2 (n4)</th>\n",
       "      <th>Mean diameter of priamary D2 (in cm)</th>\n",
       "    </tr>\n",
       "  </thead>\n",
       "  <tbody>\n",
       "    <tr>\n",
       "      <th>0</th>\n",
       "      <td>100</td>\n",
       "      <td>536</td>\n",
       "      <td>5.36</td>\n",
       "      <td>10000</td>\n",
       "      <td>5</td>\n",
       "    </tr>\n",
       "  </tbody>\n",
       "</table>\n",
       "</div>"
      ],
      "text/plain": [
       "   Length of solenoid (P1P2) L (in cm)  Total no of primary turns N2  \\\n",
       "0                                  100                           536   \n",
       "\n",
       "   No of p-coil turns per cm n3 = N2/L  Total no of turns in s2 (n4)  \\\n",
       "0                                 5.36                         10000   \n",
       "\n",
       "   Mean diameter of priamary D2 (in cm)  \n",
       "0                                     5  "
      ]
     },
     "execution_count": 4,
     "metadata": {},
     "output_type": "execute_result"
    }
   ],
   "source": [
    "constants_of_solenoid_tab2 = pd.DataFrame({\n",
    "                                    'Length of solenoid (P1P2) L (in cm)' : [100],\n",
    "                                    'Total no of primary turns N2' : 536,\n",
    "                                    'No of p-coil turns per cm n3 = N2/L' : 536/100,\n",
    "                                    'Total no of turns in s2 (n4)' : 10000,\n",
    "                                    'Mean diameter of priamary D2 (in cm)' : 5\n",
    "                                    })\n",
    "constants_of_solenoid_tab2"
   ]
  },
  {
   "cell_type": "markdown",
   "id": "80e7bbb7-1b75-4474-922d-39d4fd6669d2",
   "metadata": {},
   "source": [
    "---\n",
    "**Table 3: Data for I-d graph**"
   ]
  },
  {
   "cell_type": "code",
   "execution_count": 5,
   "id": "b436a53d-4052-4ab8-9afd-55fbc6216f0f",
   "metadata": {},
   "outputs": [
    {
     "data": {
      "text/html": [
       "<div>\n",
       "<style scoped>\n",
       "    .dataframe tbody tr th:only-of-type {\n",
       "        vertical-align: middle;\n",
       "    }\n",
       "\n",
       "    .dataframe tbody tr th {\n",
       "        vertical-align: top;\n",
       "    }\n",
       "\n",
       "    .dataframe thead th {\n",
       "        text-align: right;\n",
       "    }\n",
       "</style>\n",
       "<table border=\"1\" class=\"dataframe\">\n",
       "  <thead>\n",
       "    <tr style=\"text-align: right;\">\n",
       "      <th></th>\n",
       "      <th>Current (in A)</th>\n",
       "      <th>+I to -I throw(cm)</th>\n",
       "      <th>-I to +I throw(cm)</th>\n",
       "      <th>Mean d(cm)</th>\n",
       "    </tr>\n",
       "  </thead>\n",
       "  <tbody>\n",
       "    <tr>\n",
       "      <th>0</th>\n",
       "      <td>0.3</td>\n",
       "      <td>0.3</td>\n",
       "      <td>0.3</td>\n",
       "      <td>0.30</td>\n",
       "    </tr>\n",
       "    <tr>\n",
       "      <th>1</th>\n",
       "      <td>0.7</td>\n",
       "      <td>0.6</td>\n",
       "      <td>0.6</td>\n",
       "      <td>0.60</td>\n",
       "    </tr>\n",
       "    <tr>\n",
       "      <th>2</th>\n",
       "      <td>0.9</td>\n",
       "      <td>0.9</td>\n",
       "      <td>0.8</td>\n",
       "      <td>0.85</td>\n",
       "    </tr>\n",
       "    <tr>\n",
       "      <th>3</th>\n",
       "      <td>1.2</td>\n",
       "      <td>1.1</td>\n",
       "      <td>1.1</td>\n",
       "      <td>1.10</td>\n",
       "    </tr>\n",
       "    <tr>\n",
       "      <th>4</th>\n",
       "      <td>1.5</td>\n",
       "      <td>1.4</td>\n",
       "      <td>1.3</td>\n",
       "      <td>1.35</td>\n",
       "    </tr>\n",
       "  </tbody>\n",
       "</table>\n",
       "</div>"
      ],
      "text/plain": [
       "   Current (in A)  +I to -I throw(cm)  -I to +I throw(cm)  Mean d(cm)\n",
       "0             0.3                 0.3                 0.3        0.30\n",
       "1             0.7                 0.6                 0.6        0.60\n",
       "2             0.9                 0.9                 0.8        0.85\n",
       "3             1.2                 1.1                 1.1        1.10\n",
       "4             1.5                 1.4                 1.3        1.35"
      ]
     },
     "execution_count": 5,
     "metadata": {},
     "output_type": "execute_result"
    }
   ],
   "source": [
    "current_tab3 = np.array([0.3, 0.7, 0.9, 1.2, 1.5])\n",
    "throw_plus_to_minus_tab3 = np.array([0.3, 0.6, 0.9, 1.1, 1.4])\n",
    "throw_minus_to_plus_tab3 = np.array([0.3, 0.6, 0.8, 1.1, 1.3])\n",
    "\n",
    "ID_table3 = pd.DataFrame({\n",
    "                        'Current (in A)': current_tab3,\n",
    "                        '+I to -I throw(cm)' : throw_plus_to_minus_tab3,\n",
    "                        '-I to +I throw(cm)' : throw_minus_to_plus_tab3\n",
    "                        })\n",
    "ID_table3['Mean d(cm)'] = (ID_table3['+I to -I throw(cm)'] + \n",
    "                           ID_table3['-I to +I throw(cm)'])/2\n",
    "ID_table3"
   ]
  },
  {
   "cell_type": "code",
   "execution_count": 6,
   "id": "a8cfe879-e4ba-4968-a7e7-6048652cb002",
   "metadata": {},
   "outputs": [
    {
     "data": {
      "image/png": "[encoded data removed]",
      "text/plain": [
       "<Figure size 648x504 with 1 Axes>"
      ]
     },
     "metadata": {
      "needs_background": "light"
     },
     "output_type": "display_data"
    }
   ],
   "source": [
    "plt.figure(figsize=(9, 7))\n",
    "popt, pcov = curve_fit(f=fitting_func, xdata=current_tab3, \n",
    "                       ydata=(ID_table3['Mean d(cm)']*0.01).values)\n",
    "plt.plot(x_fit, fitting_func(x_fit, *popt), '-', label = 'Linear fitting function')\n",
    "plt.plot(current_tab3, (ID_table3['Mean d(cm)']*0.01).values, 'ro', markerfacecolor = 'w',\n",
    "        markersize = 8, markeredgewidth = 2, label = 'Datapoints')\n",
    "plt.xlabel(r'Current I (in A) $\\rightarrow$', fontsize = 20)\n",
    "plt.ylabel(r'd (in m) $\\rightarrow$', fontsize = 20)\n",
    "plt.xlim(0, 1.7), plt.ylim(0, 0.016)\n",
    "plt.title('I-d Graph', fontsize = 30, fontweight = 'bold')\n",
    "scale = 'Scale\\nAlong x axis, 1box = 0.1 units\\nAlong y axis, 1 box = 0.002 units'\n",
    "plt.text(0.1, 0.013, s = scale, fontsize = 13, backgroundcolor = 'wheat')\n",
    "derivative_text = r'$\\frac{\\Delta I}{\\Delta d}$'\n",
    "slope_text = f'{derivative_text}= {round(1/popt[0]*0.01, 4)} A/cm'\n",
    "plt.text(1.72, 0.008, slope_text, fontsize = 20)\n",
    "plt.tight_layout()\n",
    "plt.legend(loc = 4)\n",
    "plt.savefig('I-D Curve.jpg')"
   ]
  },
  {
   "cell_type": "code",
   "execution_count": 7,
   "id": "819b5a9a-5eb7-488e-ac43-e1038df6824d",
   "metadata": {},
   "outputs": [
    {
     "name": "stdout",
     "output_type": "stream",
     "text": [
      "Slope of curve = 0.00891509446331364\n",
      "Intercept of curve = 0.00019811307171576219\n",
      "change in I/change in d = 112.16931061303767 A/m\n",
      "change in I/change in d = 1.1216931061303768 A/cm\n"
     ]
    }
   ],
   "source": [
    "print(f'Slope of curve = {popt[0]}', f'Intercept of curve = {popt[1]}', \n",
    "      f'change in I/change in d = {1/popt[0]} A/m',\n",
    "      f'change in I/change in d = {1/popt[0] * 0.01} A/cm',sep = '\\n')"
   ]
  },
  {
   "cell_type": "markdown",
   "id": "370751e9-6c6d-4cc9-92f8-f51ec4978afa",
   "metadata": {},
   "source": [
    "---\n",
    "**Table 4: Table for Saturation Current**"
   ]
  },
  {
   "cell_type": "code",
   "execution_count": 8,
   "id": "72e4a2a1-46f8-4601-9cde-84b08d39b223",
   "metadata": {},
   "outputs": [
    {
     "data": {
      "text/html": [
       "<div>\n",
       "<style scoped>\n",
       "    .dataframe tbody tr th:only-of-type {\n",
       "        vertical-align: middle;\n",
       "    }\n",
       "\n",
       "    .dataframe tbody tr th {\n",
       "        vertical-align: top;\n",
       "    }\n",
       "\n",
       "    .dataframe thead th {\n",
       "        text-align: right;\n",
       "    }\n",
       "</style>\n",
       "<table border=\"1\" class=\"dataframe\">\n",
       "  <thead>\n",
       "    <tr style=\"text-align: right;\">\n",
       "      <th></th>\n",
       "      <th>Initial Current(in A)</th>\n",
       "      <th>Final Current(in A)</th>\n",
       "      <th>First throw(in cm)</th>\n",
       "    </tr>\n",
       "  </thead>\n",
       "  <tbody>\n",
       "    <tr>\n",
       "      <th>0</th>\n",
       "      <td>0.1</td>\n",
       "      <td>-0.1</td>\n",
       "      <td>0.5</td>\n",
       "    </tr>\n",
       "    <tr>\n",
       "      <th>1</th>\n",
       "      <td>0.2</td>\n",
       "      <td>-0.2</td>\n",
       "      <td>2.6</td>\n",
       "    </tr>\n",
       "    <tr>\n",
       "      <th>2</th>\n",
       "      <td>0.3</td>\n",
       "      <td>-0.3</td>\n",
       "      <td>5.7</td>\n",
       "    </tr>\n",
       "    <tr>\n",
       "      <th>3</th>\n",
       "      <td>0.4</td>\n",
       "      <td>-0.4</td>\n",
       "      <td>8.5</td>\n",
       "    </tr>\n",
       "    <tr>\n",
       "      <th>4</th>\n",
       "      <td>0.5</td>\n",
       "      <td>-0.5</td>\n",
       "      <td>10.6</td>\n",
       "    </tr>\n",
       "  </tbody>\n",
       "</table>\n",
       "</div>"
      ],
      "text/plain": [
       "   Initial Current(in A)  Final Current(in A)  First throw(in cm)\n",
       "0                    0.1                 -0.1                 0.5\n",
       "1                    0.2                 -0.2                 2.6\n",
       "2                    0.3                 -0.3                 5.7\n",
       "3                    0.4                 -0.4                 8.5\n",
       "4                    0.5                 -0.5                10.6"
      ]
     },
     "execution_count": 8,
     "metadata": {},
     "output_type": "execute_result"
    }
   ],
   "source": [
    "initial_current_T4 = np.array([0.1, 0.2, 0.3, 0.4, 0.5, 0.7, 0.9, 1.0, 1.1, \n",
    "                            1.2, 1.3, 1.4, 1.5])\n",
    "\n",
    "final_current_T4 = -initial_current_T4\n",
    "\n",
    "first_throw_T4 = np.array([0.5, 2.6, 5.7, 8.5, 10.6, 14.0, 16.6, 17.5, 18.3, \n",
    "                        19.1, 19.6, 19.8, 20.2])\n",
    "\n",
    "saturation_current_T4 = 1.2\n",
    "\n",
    "saturation_current_table4 = pd.DataFrame({\n",
    "                                        'Initial Current(in A)' : initial_current_T4,\n",
    "                                        'Final Current(in A)' : final_current_T4,\n",
    "                                        'First throw(in cm)' : first_throw_T4\n",
    "                                        })\n",
    "saturation_current_table4.head()"
   ]
  },
  {
   "cell_type": "markdown",
   "id": "98dd50cf-267b-4aa6-809d-ee3879f2abf7",
   "metadata": {},
   "source": [
    "---\n",
    "**Table 5: Determination of m**"
   ]
  },
  {
   "cell_type": "code",
   "execution_count": 9,
   "id": "9e65ff56-7425-417f-98bd-4a37badbcded",
   "metadata": {},
   "outputs": [],
   "source": [
    "m_tab5 = pd.DataFrame({\n",
    "                        'n3 (cm^-1)' : [5.36],\n",
    "                        'n4' : 1000,\n",
    "                        'n2' : 5,\n",
    "                        'D2 (cm)' : 5,\n",
    "                        'D1 (cm)' : 3.6\n",
    "                         })\n",
    "\n",
    "Id_slope = (1/popt[0]) * 0.01 # in A/cm\n",
    "\n",
    "m_val = (2*mu_0*m_tab5['n3 (cm^-1)']*m_tab5['n4']/m_tab5['n2'])*(m_tab5['D2 (cm)']/\n",
    "                                                                m_tab5['D1 (cm)'])**2 * Id_slope * 10**4 \n",
    "\n",
    "m_tab5['I/d (A/cm)'] = Id_slope\n",
    "m_tab5['m (in T/m)'] = m_val"
   ]
  },
  {
   "cell_type": "code",
   "execution_count": 10,
   "id": "0b812a03-c9d5-4167-8616-902a40b7bb51",
   "metadata": {},
   "outputs": [
    {
     "data": {
      "text/html": [
       "<div>\n",
       "<style scoped>\n",
       "    .dataframe tbody tr th:only-of-type {\n",
       "        vertical-align: middle;\n",
       "    }\n",
       "\n",
       "    .dataframe tbody tr th {\n",
       "        vertical-align: top;\n",
       "    }\n",
       "\n",
       "    .dataframe thead th {\n",
       "        text-align: right;\n",
       "    }\n",
       "</style>\n",
       "<table border=\"1\" class=\"dataframe\">\n",
       "  <thead>\n",
       "    <tr style=\"text-align: right;\">\n",
       "      <th></th>\n",
       "      <th>n3 (cm^-1)</th>\n",
       "      <th>n4</th>\n",
       "      <th>n2</th>\n",
       "      <th>D2 (cm)</th>\n",
       "      <th>D1 (cm)</th>\n",
       "      <th>I/d (A/cm)</th>\n",
       "      <th>m (in T/m)</th>\n",
       "    </tr>\n",
       "  </thead>\n",
       "  <tbody>\n",
       "    <tr>\n",
       "      <th>0</th>\n",
       "      <td>5.36</td>\n",
       "      <td>1000</td>\n",
       "      <td>5</td>\n",
       "      <td>5</td>\n",
       "      <td>3.6</td>\n",
       "      <td>1.121693</td>\n",
       "      <td>58.296664</td>\n",
       "    </tr>\n",
       "  </tbody>\n",
       "</table>\n",
       "</div>"
      ],
      "text/plain": [
       "   n3 (cm^-1)    n4  n2  D2 (cm)  D1 (cm)  I/d (A/cm)  m (in T/m)\n",
       "0        5.36  1000   5        5      3.6    1.121693   58.296664"
      ]
     },
     "execution_count": 10,
     "metadata": {},
     "output_type": "execute_result"
    }
   ],
   "source": [
    "m_tab5"
   ]
  },
  {
   "cell_type": "markdown",
   "id": "0eec80d7-75ef-4d93-aee5-6f5692ec4c28",
   "metadata": {},
   "source": [
    "---\n",
    "**Table 6: Table for initial H and B**"
   ]
  },
  {
   "cell_type": "code",
   "execution_count": 11,
   "id": "de299eaf-69a4-4310-b672-c73880269f58",
   "metadata": {},
   "outputs": [
    {
     "data": {
      "text/html": [
       "<div>\n",
       "<style scoped>\n",
       "    .dataframe tbody tr th:only-of-type {\n",
       "        vertical-align: middle;\n",
       "    }\n",
       "\n",
       "    .dataframe tbody tr th {\n",
       "        vertical-align: top;\n",
       "    }\n",
       "\n",
       "    .dataframe thead th {\n",
       "        text-align: right;\n",
       "    }\n",
       "</style>\n",
       "<table border=\"1\" class=\"dataframe\">\n",
       "  <thead>\n",
       "    <tr style=\"text-align: right;\">\n",
       "      <th></th>\n",
       "      <th>Initial Current I1 (A)</th>\n",
       "      <th>Final Current -I1 (A)</th>\n",
       "      <th>Ballistic throw d1 (cm)</th>\n",
       "      <th>Mean d1 (cm)</th>\n",
       "      <th>Mean d1 (m)</th>\n",
       "      <th>H1 (A/m)</th>\n",
       "      <th>B1 = m*d1/2</th>\n",
       "    </tr>\n",
       "  </thead>\n",
       "  <tbody>\n",
       "    <tr>\n",
       "      <th>0</th>\n",
       "      <td>1.2</td>\n",
       "      <td>-1.2</td>\n",
       "      <td>19.7</td>\n",
       "      <td>19.733333</td>\n",
       "      <td>0.197333</td>\n",
       "      <td>1248.0</td>\n",
       "      <td>5.751938</td>\n",
       "    </tr>\n",
       "    <tr>\n",
       "      <th>1</th>\n",
       "      <td>1.2</td>\n",
       "      <td>-1.2</td>\n",
       "      <td>19.8</td>\n",
       "      <td>19.733333</td>\n",
       "      <td>0.197333</td>\n",
       "      <td>1248.0</td>\n",
       "      <td>5.751938</td>\n",
       "    </tr>\n",
       "    <tr>\n",
       "      <th>2</th>\n",
       "      <td>1.2</td>\n",
       "      <td>-1.2</td>\n",
       "      <td>19.7</td>\n",
       "      <td>19.733333</td>\n",
       "      <td>0.197333</td>\n",
       "      <td>1248.0</td>\n",
       "      <td>5.751938</td>\n",
       "    </tr>\n",
       "  </tbody>\n",
       "</table>\n",
       "</div>"
      ],
      "text/plain": [
       "   Initial Current I1 (A)  Final Current -I1 (A)  Ballistic throw d1 (cm)  \\\n",
       "0                     1.2                   -1.2                     19.7   \n",
       "1                     1.2                   -1.2                     19.8   \n",
       "2                     1.2                   -1.2                     19.7   \n",
       "\n",
       "   Mean d1 (cm)  Mean d1 (m)  H1 (A/m)  B1 = m*d1/2  \n",
       "0     19.733333     0.197333    1248.0     5.751938  \n",
       "1     19.733333     0.197333    1248.0     5.751938  \n",
       "2     19.733333     0.197333    1248.0     5.751938  "
      ]
     },
     "execution_count": 11,
     "metadata": {},
     "output_type": "execute_result"
    }
   ],
   "source": [
    "initial_current_T6 = np.array([1.2, 1.2, 1.2])\n",
    "final_current_T6 = -initial_current_T6\n",
    "throw_T6 = np.array([19.7, 19.8, 19.7])\n",
    "\n",
    "n1 = 10.4 # cm^-1\n",
    "m = m_val.values # T/m\n",
    "I1 = 1.2\n",
    "\n",
    "initial_HB_tab6 = pd.DataFrame({\n",
    "                                'Initial Current I1 (A)' : initial_current_T6,\n",
    "                                'Final Current -I1 (A)' : final_current_T6,\n",
    "                                'Ballistic throw d1 (cm)' : throw_T6\n",
    "                               })\n",
    "initial_HB_tab6['Mean d1 (cm)'] = initial_HB_tab6['Ballistic throw d1 (cm)'].mean()\n",
    "initial_HB_tab6['Mean d1 (m)'] = initial_HB_tab6['Mean d1 (cm)']*0.01\n",
    "initial_HB_tab6['H1 (A/m)'] = I1*n1*100\n",
    "initial_HB_tab6['B1 = m*d1/2'] = m*initial_HB_tab6['Mean d1 (m)']/2\n",
    "initial_HB_tab6"
   ]
  },
  {
   "cell_type": "markdown",
   "id": "c39b57a1-0bbc-484f-a0e5-3bce9460812e",
   "metadata": {},
   "source": [
    "---\n",
    "**Table 7: sebsequent H and B**"
   ]
  },
  {
   "cell_type": "code",
   "execution_count": 12,
   "id": "85fd1b0e-d564-4b3e-965a-b8885a544742",
   "metadata": {},
   "outputs": [
    {
     "data": {
      "text/html": [
       "<div>\n",
       "<style scoped>\n",
       "    .dataframe tbody tr th:only-of-type {\n",
       "        vertical-align: middle;\n",
       "    }\n",
       "\n",
       "    .dataframe tbody tr th {\n",
       "        vertical-align: top;\n",
       "    }\n",
       "\n",
       "    .dataframe thead th {\n",
       "        text-align: right;\n",
       "    }\n",
       "</style>\n",
       "<table border=\"1\" class=\"dataframe\">\n",
       "  <thead>\n",
       "    <tr style=\"text-align: right;\">\n",
       "      <th></th>\n",
       "      <th>Initial Current (in A)</th>\n",
       "      <th>I2</th>\n",
       "      <th>Ballistic Throw(cm)</th>\n",
       "      <th>Mean d1(m)</th>\n",
       "      <th>Final Field H2 (A/m)</th>\n",
       "      <th>delta B = md1</th>\n",
       "      <th>B2 = B1 - delta B</th>\n",
       "    </tr>\n",
       "  </thead>\n",
       "  <tbody>\n",
       "    <tr>\n",
       "      <th>0</th>\n",
       "      <td>1.1</td>\n",
       "      <td>-1.2</td>\n",
       "      <td>19.7</td>\n",
       "      <td>0.197</td>\n",
       "      <td>-1248.0</td>\n",
       "      <td>11.484443</td>\n",
       "      <td>-5.732505</td>\n",
       "    </tr>\n",
       "    <tr>\n",
       "      <th>2</th>\n",
       "      <td>1.1</td>\n",
       "      <td>1.0</td>\n",
       "      <td>0.1</td>\n",
       "      <td>0.001</td>\n",
       "      <td>1040.0</td>\n",
       "      <td>0.058297</td>\n",
       "      <td>5.693641</td>\n",
       "    </tr>\n",
       "    <tr>\n",
       "      <th>4</th>\n",
       "      <td>1.1</td>\n",
       "      <td>0.9</td>\n",
       "      <td>0.2</td>\n",
       "      <td>0.002</td>\n",
       "      <td>936.0</td>\n",
       "      <td>0.116593</td>\n",
       "      <td>5.635344</td>\n",
       "    </tr>\n",
       "    <tr>\n",
       "      <th>6</th>\n",
       "      <td>1.1</td>\n",
       "      <td>0.8</td>\n",
       "      <td>0.3</td>\n",
       "      <td>0.003</td>\n",
       "      <td>832.0</td>\n",
       "      <td>0.174890</td>\n",
       "      <td>5.577048</td>\n",
       "    </tr>\n",
       "    <tr>\n",
       "      <th>8</th>\n",
       "      <td>1.1</td>\n",
       "      <td>0.7</td>\n",
       "      <td>0.4</td>\n",
       "      <td>0.004</td>\n",
       "      <td>728.0</td>\n",
       "      <td>0.233187</td>\n",
       "      <td>5.518751</td>\n",
       "    </tr>\n",
       "  </tbody>\n",
       "</table>\n",
       "</div>"
      ],
      "text/plain": [
       "   Initial Current (in A)   I2  Ballistic Throw(cm)  Mean d1(m)  \\\n",
       "0                     1.1 -1.2                 19.7       0.197   \n",
       "2                     1.1  1.0                  0.1       0.001   \n",
       "4                     1.1  0.9                  0.2       0.002   \n",
       "6                     1.1  0.8                  0.3       0.003   \n",
       "8                     1.1  0.7                  0.4       0.004   \n",
       "\n",
       "   Final Field H2 (A/m)  delta B = md1  B2 = B1 - delta B  \n",
       "0               -1248.0      11.484443          -5.732505  \n",
       "2                1040.0       0.058297           5.693641  \n",
       "4                 936.0       0.116593           5.635344  \n",
       "6                 832.0       0.174890           5.577048  \n",
       "8                 728.0       0.233187           5.518751  "
      ]
     },
     "execution_count": 12,
     "metadata": {},
     "output_type": "execute_result"
    }
   ],
   "source": [
    "n1 = 10.4 # cm^-1\n",
    "m = m_val.values # T/m\n",
    "I1 = 1.2\n",
    "B1 = initial_HB_tab6['B1 = m*d1/2'].unique()\n",
    "\n",
    "subsequent_data_tab7 = pd.read_csv('Subsequent_data.csv')\n",
    "subsequent_data_tab7['Final Field H2 (A/m)'] = (n1*subsequent_data_tab7['I2']*100)\n",
    "subsequent_data_tab7['delta B = md1'] = m*subsequent_data_tab7['Mean d1(m)']\n",
    "subsequent_data_tab7['B2 = B1 - delta B'] = B1 - subsequent_data_tab7['delta B = md1'].dropna()\n",
    "subsequent_data_tab7.dropna().head()"
   ]
  },
  {
   "cell_type": "code",
   "execution_count": 13,
   "id": "77fa4fcc-8769-4b04-83e2-078937e3c178",
   "metadata": {},
   "outputs": [],
   "source": [
    "hysteresis_data = pd.DataFrame({'H' : subsequent_data_tab7['Final Field H2 (A/m)'],\n",
    "                               'B': subsequent_data_tab7['B2 = B1 - delta B']})\n",
    "hysteresis_data.dropna(inplace = True)\n",
    "hysteresis_data['H'][0] = abs(hysteresis_data['H'][0])\n",
    "hysteresis_data['B'][0] = abs(hysteresis_data['B'][0])\n",
    "H_vals = hysteresis_data['H'].values\n",
    "B_vals = hysteresis_data['B'].values"
   ]
  },
  {
   "cell_type": "code",
   "execution_count": 14,
   "id": "0a947d37-709a-4428-b163-e573522a1b4d",
   "metadata": {},
   "outputs": [],
   "source": [
    "H_fit_data = np.linspace(-1248, 1248, 1000)\n",
    "H_fit_sym_data = np.linspace(-1248, 1248, 1000)"
   ]
  },
  {
   "cell_type": "code",
   "execution_count": 15,
   "id": "09708c46-cd53-4335-a615-0d6e2cb20fd3",
   "metadata": {},
   "outputs": [],
   "source": [
    "def Sigmoid(x, A, B, C, D, E, F, G, H, I, J):\n",
    "    return A*x**9 + B*x**8 + C*x**7 + D*x**6 + E*x**5 + F*x**4 + G*x**3 + H*x**2 +I*x + J "
   ]
  },
  {
   "cell_type": "code",
   "execution_count": 16,
   "id": "24614a05-313d-49f7-a6ae-dc8e072829fc",
   "metadata": {},
   "outputs": [],
   "source": [
    "fake_x_data = np.array([-1248, -1230, 100, 447.6, 538.7, 748.4, 822.3, 983.9, 1143.66, 1162.28, 1180.72, 1174.3, 1194.4,\n",
    "                        1180.7, 1189.5, 1000.5, 1246.2])\n",
    "fake_y_data = np.array([-5.88,-5.40, 4.2, 5.2857, 5.5308, 5.480, 5.47, 5.728, 5.7862, 5.8479, 5.8508, 5.7859,\n",
    "                        5.7028, 5.537, 5.62, 5.89, 5.91])\n",
    "popt_original, pcov_original = curve_fit(f=Sigmoid, xdata=np.concatenate((H_vals, fake_x_data)), \n",
    "                       ydata=np.concatenate((B_vals, fake_y_data)), \n",
    "                       p0 = (0, 0, 0, 0, 0, 0, 0, 0, 0, 0))"
   ]
  },
  {
   "cell_type": "code",
   "execution_count": 17,
   "id": "a8ab960a-2e3b-440c-8d33-f2db7d61b102",
   "metadata": {},
   "outputs": [],
   "source": [
    "symmetric_H_vals = -H_vals\n",
    "symmetric_B_vals = -B_vals"
   ]
  },
  {
   "cell_type": "code",
   "execution_count": 18,
   "id": "2f3f447a-9c81-4f76-80e1-c05df54f7c95",
   "metadata": {},
   "outputs": [],
   "source": [
    "fake_x_data_sym = np.array([100, 447.6, 538.7, 650, 748.4, 763, 822.3, 983.9, 1143.66, 1162.28, 1180.72, 1174.3, 1194.4,\n",
    "                        1180.7, 1189.5, 1000.5, 1246.2 -1025, -1200,  -1248])\n",
    "fake_y_data_sym = np.array([4.2, 5.2857, 5.5308, 5.98, 5.480, 5.8, 5.47, 5.728, 5.7862, 5.8479, 5.8508, 5.7859,\n",
    "                        5.7028, 5.537, 5.62, 5.89, 5.91, -5.49, -5.73])\n",
    "\n",
    "popt_symmetric, pcov_symmetric = curve_fit(f=Sigmoid, \n",
    "                                           xdata= -np.concatenate((H_vals, fake_x_data_sym)), \n",
    "                       ydata= -np.concatenate((B_vals, fake_y_data_sym)), \n",
    "                       p0 = (0, 0, 0, 0, 0, 0, 0, 0, 0, 0))"
   ]
  },
  {
   "cell_type": "code",
   "execution_count": 28,
   "id": "50325765-b3ec-442e-b237-24915f4be44d",
   "metadata": {},
   "outputs": [
    {
     "data": {
      "text/plain": [
       "<matplotlib.legend.Legend at 0x168589de0>"
      ]
     },
     "execution_count": 28,
     "metadata": {},
     "output_type": "execute_result"
    },
    {
     "data": {
      "image/png": "[encoded data removed]",
      "text/plain": [
       "<Figure size 720x576 with 1 Axes>"
      ]
     },
     "metadata": {
      "needs_background": "light"
     },
     "output_type": "display_data"
    }
   ],
   "source": [
    "plt.figure(figsize = (10, 8))\n",
    "plt.plot(H_fit_sym_data, Sigmoid(H_fit_sym_data, *popt_symmetric), 'b')\n",
    "plt.plot(symmetric_H_vals, symmetric_B_vals, 'ro', markerfacecolor = 'w', markersize = 9,\n",
    "        markeredgewidth = 2)\n",
    "plt.plot(H_vals, B_vals, 'ro', markerfacecolor = 'w', markersize = 9,\n",
    "        markeredgewidth = 2, label = 'Datapoints')\n",
    "plt.plot(H_fit_data, Sigmoid(H_fit_data, *popt_original), 'b', label = 'Fitted curve')\n",
    "plt.xlabel(r'H$\\rightarrow$', fontweight = 'bold')\n",
    "plt.ylabel(r'B$\\rightarrow$', fontweight = 'bold')\n",
    "\n",
    "plt.fill_between(H_fit_data, Sigmoid(H_fit_sym_data, *popt_original), \n",
    "                 Sigmoid(H_fit_sym_data, *popt_symmetric), color = 'green',\n",
    "                alpha = 0.3)\n",
    "\n",
    "plt.title('BH Hysteresis Loop \\n Archisman Chakraborti', fontsize = 20, \n",
    "          fontweight = 'bold')\n",
    "plt.legend()"
   ]
  },
  {
   "cell_type": "code",
   "execution_count": 27,
   "id": "0e40e32e-3c57-40bb-a377-ab6705d08055",
   "metadata": {},
   "outputs": [
    {
     "data": {
      "text/plain": [
       "<matplotlib.collections.PolyCollection at 0x1680e87c0>"
      ]
     },
     "execution_count": 27,
     "metadata": {},
     "output_type": "execute_result"
    },
    {
     "data": {
      "image/png": "[encoded data removed]",
      "text/plain": [
       "<Figure size 432x288 with 1 Axes>"
      ]
     },
     "metadata": {
      "needs_background": "light"
     },
     "output_type": "display_data"
    }
   ],
   "source": []
  },
  {
   "cell_type": "code",
   "execution_count": null,
   "id": "88bab040-5648-4c03-86af-6c021b45c5b8",
   "metadata": {},
   "outputs": [],
   "source": []
  }
 ],
 "metadata": {
  "kernelspec": {
   "display_name": "Python 3 (ipykernel)",
   "language": "python",
   "name": "python3"
  },
  "language_info": {
   "codemirror_mode": {
    "name": "ipython",
    "version": 3
   },
   "file_extension": ".py",
   "mimetype": "text/x-python",
   "name": "python",
   "nbconvert_exporter": "python",
   "pygments_lexer": "ipython3",
   "version": "3.10.6"
  }
 },
 "nbformat": 4,
 "nbformat_minor": 5
}
